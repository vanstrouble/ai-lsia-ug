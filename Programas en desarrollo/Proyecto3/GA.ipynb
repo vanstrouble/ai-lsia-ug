{
 "cells": [
  {
   "cell_type": "code",
   "execution_count": 2,
   "metadata": {},
   "outputs": [],
   "source": [
    "import numpy as np\n",
    "import matplotlib.pyplot as plt"
   ]
  },
  {
   "cell_type": "code",
   "execution_count": 3,
   "metadata": {},
   "outputs": [],
   "source": [
    "def func(x):\n",
    "    return -np.abs(np.sin(x) - 0.5 * x)"
   ]
  },
  {
   "cell_type": "code",
   "execution_count": 4,
   "metadata": {},
   "outputs": [],
   "source": [
    "def init(m, n):\n",
    "    return np.random.randint(2, size=(m, n))"
   ]
  },
  {
   "cell_type": "code",
   "execution_count": 5,
   "metadata": {},
   "outputs": [],
   "source": [
    "# Función para decodificar\n",
    "def decode(ss, a, b):\n",
    "    n = ss.shape[1]\n",
    "    x = []\n",
    "    for s in ss:\n",
    "        bin_to_int = np.array([int(j) << i for i,j in enumerate(s[::-1])]).sum()\n",
    "        int_to_x = a + bin_to_int * (b - a) / (2**n - 1)\n",
    "        x.append(int_to_x)\n",
    "    return np.array(x)"
   ]
  },
  {
   "cell_type": "code",
   "execution_count": 6,
   "metadata": {},
   "outputs": [],
   "source": [
    "# Función de seleccion\n",
    "def selection(population, sample_size, fitness):\n",
    "    m, n = population.shape\n",
    "    new_pop = population.copy()\n",
    "        \n",
    "    for i in range(m):\n",
    "        rand_id = np.random.choice(m, size=max(1, int(sample_size*m)), replace=False)\n",
    "        max_id = rand_id[fitness[rand_id].argmax()]\n",
    "        new_pop[i] = population[max_id].copy()\n",
    "    \n",
    "    return new_pop"
   ]
  },
  {
   "cell_type": "code",
   "execution_count": 7,
   "metadata": {},
   "outputs": [],
   "source": [
    "# Función de cruza\n",
    "def crossover(population, pc):\n",
    "    m, n = population.shape\n",
    "    new_pop = population.copy()\n",
    "    \n",
    "    for i in range(0, m-1, 2):\n",
    "        if np.random.uniform(0, 1) < pc:\n",
    "            pos = np.random.randint(0, n-1)\n",
    "            new_pop[i, pos+1:] = population[i+1, pos+1:].copy()\n",
    "            new_pop[i+1, pos+1:] = population[i, pos+1:].copy()\n",
    "            \n",
    "    return new_pop"
   ]
  },
  {
   "cell_type": "code",
   "execution_count": 8,
   "metadata": {},
   "outputs": [],
   "source": [
    "# Función de muta\n",
    "def mutation(population, pm):\n",
    "    m,n = population.shape\n",
    "    new_pop = population.copy()\n",
    "    mutation_prob = (np.random.uniform(0, 1, size=(m,n)) < pm).astype(int)\n",
    "    return (mutation_prob + new_pop) % 2"
   ]
  },
  {
   "cell_type": "code",
   "execution_count": 9,
   "metadata": {},
   "outputs": [],
   "source": [
    "def print_result(gen_num, population, fitness, x):\n",
    "    m = population.shape[0]\n",
    "    print('=' * 68)\n",
    "    print(f'Generation {gen_num} max fitness {fitness.max():0.4f} at x = {x[fitness.argmax()]:0.4f}')\n",
    "    \n",
    "    for i in range(m):\n",
    "        print(f'# {i+1}\\t{population[i]}   fitness: {fitness[i]:0.4f}')\n",
    "    \n",
    "    print(f'Average fitness: {fitness.mean():0.4f}')\n",
    "    print('=' * 68, '\\n')"
   ]
  },
  {
   "cell_type": "code",
   "execution_count": 10,
   "metadata": {},
   "outputs": [],
   "source": [
    "def GeneticAlgorithm(func, pop_size, str_size, low, high, \n",
    "                     ps=0.2, pc=1.0, pm=0.1, max_iter=1000, eps=1e-5, random_state=None):\n",
    "    \n",
    "    np.random.seed(random_state)\n",
    "    pop = init(pop_size, str_size)\n",
    "    x = decode(pop, low, high)\n",
    "    fitness = func(x)\n",
    "    best = [fitness.max()]\n",
    "    print_result(1, pop, fitness, x)\n",
    "    \n",
    "    i = 0\n",
    "    while i < max_iter and abs(best[-1]) > eps:\n",
    "        pop = selection(pop, ps, fitness)\n",
    "        pop = crossover(pop, pc)\n",
    "        pop = mutation(pop, pm)\n",
    "        x = decode(pop, low, high)\n",
    "        fitness = func(x)\n",
    "        best.append(fitness.max())\n",
    "        i += 1\n",
    "    \n",
    "    print_result(i, pop, fitness, x)\n",
    "    \n",
    "    if i == max_iter:\n",
    "        print(i, 'maximum iteration reached!')\n",
    "        print('Solution not found. Try increasing max_iter for better result.')\n",
    "    else:\n",
    "        print('Solution found at iteration', i)\n",
    "        \n",
    "    return fitness, x, best, i, pop_size"
   ]
  },
  {
   "cell_type": "code",
   "execution_count": 11,
   "metadata": {},
   "outputs": [],
   "source": [
    "def plot_result(func, fs, xs, best, i, m):\n",
    "    xval = np.arange(1, 3, 0.01)\n",
    "    yval = func(xval)\n",
    "    plt.figure(figsize=(10,5))\n",
    "    \n",
    "    plt.subplot(121)\n",
    "    plt.plot(xval, yval, color='m')\n",
    "    plt.scatter(xs, fs, alpha=0.50)\n",
    "    plt.xlim((1,3))\n",
    "    plt.xlabel('$x$')\n",
    "    plt.ylabel('$f(x) = -|sin(x) - 0.5x|$')\n",
    "    plt.title('Population at Iteration ' + str(i) + '\\n' + \\\n",
    "              'Number of Individuals: ' + str(m))\n",
    "    \n",
    "    plt.subplot(122)\n",
    "    plt.plot(best, color='c')\n",
    "    plt.xlim(0)\n",
    "    plt.xlabel('Iteration')\n",
    "    plt.ylabel('Best Fitness')\n",
    "    plt.title('Best Fitness vs Iteration' + '\\n' + \\\n",
    "              'Number of Individuals: ' + str(m))\n",
    "    "
   ]
  },
  {
   "cell_type": "code",
   "execution_count": 12,
   "metadata": {},
   "outputs": [
    {
     "name": "stdout",
     "output_type": "stream",
     "text": [
      "====================================================================\n",
      "Generation 1 max fitness -0.0174 at x = 1.9165\n",
      "# 1\t[0 1 1 1 0 1 0 1 0 1 0 1 0 0 0 0 1 0 0 1]   fitness: -0.0174\n",
      "# 2\t[1 1 0 1 0 0 1 1 0 0 1 1 0 1 0 1 1 1 0 0]   fitness: -0.8531\n",
      "# 3\t[1 1 0 1 0 0 0 1 0 1 1 1 0 1 0 1 0 1 0 1]   fitness: -0.8342\n",
      "# 4\t[1 0 1 0 1 0 1 0 1 0 0 1 0 1 0 1 0 0 1 1]   fitness: -0.4428\n",
      "# 5\t[1 1 1 0 0 1 0 0 1 0 1 1 0 1 1 1 0 1 1 1]   fitness: -1.0461\n",
      "# 6\t[1 1 1 0 1 1 1 0 1 1 0 1 1 1 1 1 1 0 1 0]   fitness: -1.1612\n",
      "# 7\t[0 1 0 1 0 1 0 0 0 1 0 1 1 0 0 1 1 1 1 0]   fitness: -0.1666\n",
      "# 8\t[0 1 0 0 1 0 0 1 1 0 1 0 1 0 0 1 1 0 1 1]   fitness: -0.2122\n",
      "# 9\t[0 1 0 1 1 0 0 1 1 1 1 0 0 1 0 1 1 1 1 1]   fitness: -0.1402\n",
      "# 10\t[0 0 0 0 0 0 0 0 1 1 1 1 0 1 0 1 1 0 1 0]   fitness: -0.3417\n",
      "# 11\t[0 1 0 1 1 0 1 0 0 1 0 0 0 0 1 1 1 0 1 0]   fitness: -0.1384\n",
      "# 12\t[0 0 1 0 1 1 1 1 1 1 1 1 0 1 1 1 0 1 1 0]   fitness: -0.2935\n",
      "# 13\t[0 1 0 1 1 1 1 0 0 1 0 1 1 0 0 0 1 1 0 0]   fitness: -0.1177\n",
      "# 14\t[1 1 0 1 1 0 1 1 1 1 1 0 1 1 0 0 1 1 0 0]   fitness: -0.9482\n",
      "# 15\t[0 1 1 0 1 1 1 1 1 0 0 0 0 1 1 0 0 0 1 1]   fitness: -0.0196\n",
      "Average fitness: -0.4489\n",
      "==================================================================== \n",
      "\n",
      "====================================================================\n",
      "Generation 27 max fitness -0.0000 at x = 1.8955\n",
      "# 1\t[0 1 1 1 0 0 1 0 1 0 0 1 1 0 1 0 0 0 0 1]   fitness: -0.0001\n",
      "# 2\t[0 1 1 0 0 0 1 0 0 0 0 1 1 0 0 1 0 0 1 1]   fitness: -0.0977\n",
      "# 3\t[0 1 1 1 0 1 1 1 0 1 1 1 1 1 1 1 0 1 1 1]   fitness: -0.0319\n",
      "# 4\t[0 1 1 1 0 0 1 0 0 1 0 1 1 0 1 1 0 1 1 0]   fitness: -0.0017\n",
      "# 5\t[0 0 1 1 0 0 1 0 0 0 1 1 1 0 1 1 0 0 0 1]   fitness: -0.2879\n",
      "# 6\t[0 1 1 1 0 0 0 0 0 1 1 1 1 0 1 1 0 0 1 0]   fitness: -0.0136\n",
      "# 7\t[0 1 1 1 0 0 0 0 1 0 1 1 1 1 1 1 0 1 0 1]   fitness: -0.0119\n",
      "# 8\t[0 1 1 1 0 0 1 0 0 1 1 1 1 1 1 1 1 1 0 1]   fitness: -0.0008\n",
      "# 9\t[1 1 1 1 0 0 1 0 0 0 1 1 1 0 1 1 1 0 0 0]   fitness: -1.1996\n",
      "# 10\t[0 1 1 0 0 0 1 1 1 1 1 1 1 0 1 1 1 1 1 0]   fitness: -0.0874\n",
      "# 11\t[1 1 1 1 0 1 1 0 0 1 1 1 1 0 1 1 0 1 1 0]   fitness: -1.2485\n",
      "# 12\t[0 1 1 1 0 0 1 0 0 1 1 1 0 0 0 1 1 1 0 0]   fitness: -0.0011\n",
      "# 13\t[0 1 1 1 0 0 1 0 1 0 0 1 1 1 1 1 1 0 1 0]   fitness: -0.0000\n",
      "# 14\t[0 0 1 1 0 0 0 0 0 1 1 1 1 0 0 0 1 1 1 1]   fitness: -0.2923\n",
      "# 15\t[0 1 1 1 0 0 1 0 0 1 1 1 0 0 1 1 1 1 0 1]   fitness: -0.0011\n",
      "Average fitness: -0.2184\n",
      "==================================================================== \n",
      "\n",
      "Solution found at iteration 27\n"
     ]
    },
    {
     "data": {
      "image/png": "[encoded data removed]",
      "text/plain": [
       "<Figure size 720x360 with 2 Axes>"
      ]
     },
     "metadata": {
      "needs_background": "light"
     },
     "output_type": "display_data"
    }
   ],
   "source": [
    "fs, xs, best, i, m = GeneticAlgorithm(func, pop_size=15, str_size=20, low=1, high=3, random_state=69)\n",
    "plot_result(func, fs, xs, best, i, m)"
   ]
  },
  {
   "cell_type": "code",
   "execution_count": null,
   "metadata": {},
   "outputs": [],
   "source": []
  }
 ],
 "metadata": {
  "interpreter": {
   "hash": "643bd40750bb6168752a81b4b3bbede6f065dfba594ed0ac688963fc07818c18"
  },
  "kernelspec": {
   "display_name": "Python 3.9.12 ('envpip')",
   "language": "python",
   "name": "python3"
  },
  "language_info": {
   "codemirror_mode": {
    "name": "ipython",
    "version": 3
   },
   "file_extension": ".py",
   "mimetype": "text/x-python",
   "name": "python",
   "nbconvert_exporter": "python",
   "pygments_lexer": "ipython3",
   "version": "3.9.12"
  },
  "orig_nbformat": 4
 },
 "nbformat": 4,
 "nbformat_minor": 2
}
