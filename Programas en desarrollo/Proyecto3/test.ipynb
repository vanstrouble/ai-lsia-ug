{
 "cells": [
  {
   "cell_type": "code",
   "execution_count": 2,
   "metadata": {},
   "outputs": [],
   "source": [
    "import numpy as np\n",
    "import cv2\n",
    "\n",
    "from Genetic_Algorithm import GA"
   ]
  },
  {
   "cell_type": "code",
   "execution_count": 23,
   "metadata": {},
   "outputs": [
    {
     "ename": "AssertionError",
     "evalue": "el residuo de dividir str_size entre n debe ser 0",
     "output_type": "error",
     "traceback": [
      "\u001b[0;31m---------------------------------------------------------------------------\u001b[0m",
      "\u001b[0;31mAssertionError\u001b[0m                            Traceback (most recent call last)",
      "\u001b[1;32m/Users/vanstrouble/Desktop/Proyecto3/test.ipynb Cell 2'\u001b[0m in \u001b[0;36m<cell line: 24>\u001b[0;34m()\u001b[0m\n\u001b[1;32m     <a href='vscode-notebook-cell:/Users/vanstrouble/Desktop/Proyecto3/test.ipynb#ch0000001?line=13'>14</a>\u001b[0m pixels \u001b[39m=\u001b[39m np\u001b[39m.\u001b[39mconcatenate(contours)\n\u001b[1;32m     <a href='vscode-notebook-cell:/Users/vanstrouble/Desktop/Proyecto3/test.ipynb#ch0000001?line=15'>16</a>\u001b[0m \u001b[39m# cv2.imshow(\"img\", img)\u001b[39;00m\n\u001b[1;32m     <a href='vscode-notebook-cell:/Users/vanstrouble/Desktop/Proyecto3/test.ipynb#ch0000001?line=16'>17</a>\u001b[0m \u001b[39m# cv2.waitKey(0)\u001b[39;00m\n\u001b[1;32m     <a href='vscode-notebook-cell:/Users/vanstrouble/Desktop/Proyecto3/test.ipynb#ch0000001?line=17'>18</a>\u001b[0m \u001b[39m# cv2.destroyAllWindows()\u001b[39;00m\n\u001b[0;32m   (...)\u001b[0m\n\u001b[1;32m     <a href='vscode-notebook-cell:/Users/vanstrouble/Desktop/Proyecto3/test.ipynb#ch0000001?line=20'>21</a>\u001b[0m \u001b[39m# GA = GA(pixels.shape[0], , 0, pixels.shape[0]-1, 3)\u001b[39;00m\n\u001b[1;32m     <a href='vscode-notebook-cell:/Users/vanstrouble/Desktop/Proyecto3/test.ipynb#ch0000001?line=21'>22</a>\u001b[0m \u001b[39m# 2**n >= pixels.shape[0]-1\u001b[39;00m\n\u001b[0;32m---> <a href='vscode-notebook-cell:/Users/vanstrouble/Desktop/Proyecto3/test.ipynb#ch0000001?line=23'>24</a>\u001b[0m GA \u001b[39m=\u001b[39m GA(pixels\u001b[39m.\u001b[39;49mshape[\u001b[39m1\u001b[39;49m], \u001b[39m8\u001b[39;49m, \u001b[39m0\u001b[39;49m, pixels\u001b[39m.\u001b[39;49mshape[\u001b[39m0\u001b[39;49m]\u001b[39m-\u001b[39;49m\u001b[39m1\u001b[39;49m, \u001b[39m3\u001b[39;49m)\n\u001b[1;32m     <a href='vscode-notebook-cell:/Users/vanstrouble/Desktop/Proyecto3/test.ipynb#ch0000001?line=24'>25</a>\u001b[0m GA\u001b[39m.\u001b[39mrun()\n",
      "File \u001b[0;32m~/Desktop/Proyecto3/Genetic_Algorithm.py:10\u001b[0m, in \u001b[0;36mGA.__init__\u001b[0;34m(self, pop_size, str_size, lower_bound, upper_bound, n)\u001b[0m\n\u001b[1;32m      <a href='file:///Users/vanstrouble/Desktop/Proyecto3/Genetic_Algorithm.py?line=7'>8</a>\u001b[0m \u001b[39mdef\u001b[39;00m \u001b[39m__init__\u001b[39m(\u001b[39mself\u001b[39m, pop_size, str_size, lower_bound, upper_bound, n):\n\u001b[1;32m      <a href='file:///Users/vanstrouble/Desktop/Proyecto3/Genetic_Algorithm.py?line=8'>9</a>\u001b[0m     \u001b[39massert\u001b[39;00m str_size \u001b[39m%\u001b[39m \u001b[39m2\u001b[39m \u001b[39m==\u001b[39m \u001b[39m0\u001b[39m, \u001b[39m'\u001b[39m\u001b[39mstr_size debe ser par\u001b[39m\u001b[39m'\u001b[39m\n\u001b[0;32m---> <a href='file:///Users/vanstrouble/Desktop/Proyecto3/Genetic_Algorithm.py?line=9'>10</a>\u001b[0m     \u001b[39massert\u001b[39;00m str_size \u001b[39m%\u001b[39m n \u001b[39m==\u001b[39m \u001b[39m0\u001b[39m, \u001b[39m'\u001b[39m\u001b[39mel residuo de dividir str_size entre n debe ser 0\u001b[39m\u001b[39m'\u001b[39m\n\u001b[1;32m     <a href='file:///Users/vanstrouble/Desktop/Proyecto3/Genetic_Algorithm.py?line=11'>12</a>\u001b[0m     \u001b[39m# Inicializacion\u001b[39;00m\n\u001b[1;32m     <a href='file:///Users/vanstrouble/Desktop/Proyecto3/Genetic_Algorithm.py?line=12'>13</a>\u001b[0m     \u001b[39mself\u001b[39m\u001b[39m.\u001b[39ml_bound \u001b[39m=\u001b[39m lower_bound\n",
      "\u001b[0;31mAssertionError\u001b[0m: el residuo de dividir str_size entre n debe ser 0"
     ]
    }
   ],
   "source": [
    "img = cv2.imread('circles.png')\n",
    "img_orig = img.copy()\n",
    "# Convertir imagen a escala de grises\n",
    "img = cv2.cvtColor(img, cv2.COLOR_BGR2GRAY)\n",
    "# Suavizar la imagen\n",
    "img = cv2.medianBlur(img, 3)\n",
    "\n",
    "# Detectamos los bordes\n",
    "edge = cv2.Canny(img, 50, 50)\n",
    "\n",
    "# Encontramos los contornos\n",
    "contours, _ = cv2.findContours(edge, cv2.RETR_EXTERNAL, cv2.CHAIN_APPROX_NONE)\n",
    "cv2.drawContours(img, contours, -1, (0, 255, 0), 3)\n",
    "pixels = np.concatenate(contours)\n",
    "\n",
    "# cv2.imshow(\"img\", img)\n",
    "# cv2.waitKey(0)\n",
    "# cv2.destroyAllWindows()\n",
    "\n",
    "# Configuramos los parametros para el GA\n",
    "# GA = GA(pixels.shape[0], , 0, pixels.shape[0]-1, 3)\n",
    "# 2**n >= pixels.shape[0]-1\n",
    "\n",
    "GA = GA(pixels.shape[1], 8, 0, pixels.shape[0]-1, 3)\n",
    "GA.run()\n"
   ]
  }
 ],
 "metadata": {
  "interpreter": {
   "hash": "643bd40750bb6168752a81b4b3bbede6f065dfba594ed0ac688963fc07818c18"
  },
  "kernelspec": {
   "display_name": "Python 3.9.12 ('envpip')",
   "language": "python",
   "name": "python3"
  },
  "language_info": {
   "codemirror_mode": {
    "name": "ipython",
    "version": 3
   },
   "file_extension": ".py",
   "mimetype": "text/x-python",
   "name": "python",
   "nbconvert_exporter": "python",
   "pygments_lexer": "ipython3",
   "version": "3.9.12"
  },
  "orig_nbformat": 4
 },
 "nbformat": 4,
 "nbformat_minor": 2
}
