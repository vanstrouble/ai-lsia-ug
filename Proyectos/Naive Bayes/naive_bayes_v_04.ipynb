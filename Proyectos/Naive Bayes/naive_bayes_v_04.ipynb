{
 "cells": [
  {
   "cell_type": "markdown",
   "metadata": {},
   "source": [
    "# Naive Bayes "
   ]
  },
  {
   "cell_type": "code",
   "execution_count": 15,
   "metadata": {},
   "outputs": [],
   "source": [
    "import pandas as pd\n",
    "import numpy as np"
   ]
  },
  {
   "cell_type": "markdown",
   "metadata": {},
   "source": [
    "## Carga de datos"
   ]
  },
  {
   "cell_type": "markdown",
   "metadata": {},
   "source": [
    "#### Limpieza de datos\n",
    "**Nota:** En esta primera versión, la función trata de enfocarse en el dataset de Brast Cancer Wisconsin, pero pretende que se sueda llegar a implementar con otros agregando más argumentos. "
   ]
  },
  {
   "cell_type": "code",
   "execution_count": 6,
   "metadata": {},
   "outputs": [],
   "source": [
    "def clean(ds, characters=['?'], col=None):\n",
    "    for j in col:\n",
    "        for i in range(ds.shape[0]):\n",
    "            if ds[i,j] in characters:\n",
    "                ds[i,j] = np.nan\n",
    "        ds[:,j] = ds[:,j].astype(np.float64)\n",
    "\n",
    "        mean = ds[:,j].astype(np.float64).mean(where=[0 if np.isnan(e) else 1 for e in ds[:,j]])\n",
    "\n",
    "        for i, e in enumerate(ds[:, j]):\n",
    "            if np.isnan(e):\n",
    "                ds[i,j] = mean\n",
    "\n",
    "    return 'Datos limpios exitosamente'"
   ]
  },
  {
   "cell_type": "markdown",
   "metadata": {},
   "source": [
    "### Iris Plant"
   ]
  },
  {
   "cell_type": "code",
   "execution_count": 16,
   "metadata": {},
   "outputs": [],
   "source": [
    "data = pd.read_csv('iris.data', header=None).values\n",
    "label_col = 4 # Obtenemos el indice de la etiqueta\n",
    "chr_cols = (1, data.shape[1]) if label_col == 0 else (0, data.shape[1]-1) # Obtener las columnas de características"
   ]
  },
  {
   "cell_type": "markdown",
   "metadata": {},
   "source": [
    "### Breast Cancer"
   ]
  },
  {
   "cell_type": "code",
   "execution_count": 14,
   "metadata": {},
   "outputs": [],
   "source": [
    "data = pd.read_csv('Breast_cancer_data.csv').sort_values('diagnosis', ignore_index=True).values\n",
    "label_col = 5 # Columna de la etiqueta\n",
    "chr_cols = (1, data.shape[1]) if label_col == 0 else (0, data.shape[1]-1) # Obtener las columnas de características"
   ]
  },
  {
   "cell_type": "markdown",
   "metadata": {},
   "source": [
    "### Breast Cancer Wisconsin"
   ]
  },
  {
   "cell_type": "code",
   "execution_count": 7,
   "metadata": {},
   "outputs": [
    {
     "data": {
      "text/plain": [
       "'Datos limpios exitosamente'"
      ]
     },
     "execution_count": 7,
     "metadata": {},
     "output_type": "execute_result"
    }
   ],
   "source": [
    "label_col = 10 # Columna de la etiqueta\n",
    "data = pd.read_csv('breast-cancer-wisconsin.data', header=None).sort_values(label_col, ignore_index=True).values\n",
    "chr_cols = (1,9) # Obtener las columnas de las características\n",
    "clean(data, col=[6]) # Se implementa la limpieza de datos"
   ]
  },
  {
   "cell_type": "markdown",
   "metadata": {},
   "source": [
    "### Wine"
   ]
  },
  {
   "cell_type": "code",
   "execution_count": 29,
   "metadata": {},
   "outputs": [],
   "source": [
    "data = pd.read_csv('wine.data', header=None).values\n",
    "label_col = 0\n",
    "chr_cols = (1, data.shape[1]) if label_col == 0 else (0, data.shape[1]-1) # Obtener las columnas de características"
   ]
  },
  {
   "cell_type": "markdown",
   "metadata": {},
   "source": [
    "## Desarrollo de algoritmo de Bayes"
   ]
  },
  {
   "cell_type": "markdown",
   "metadata": {},
   "source": [
    "### Teorema de Bayes\n",
    "$P(Y|X) = \\frac{P(X = x_0, x_1, x_2 | Y = y)P(Y = y)}{P(X)}$"
   ]
  },
  {
   "cell_type": "markdown",
   "metadata": {},
   "source": [
    "### Calcular la probabilidad a priori"
   ]
  },
  {
   "cell_type": "code",
   "execution_count": 17,
   "metadata": {},
   "outputs": [],
   "source": [
    "def calculate_prior(ds):\n",
    "    total = sum(map(lambda arr: arr.shape[0], ds))\n",
    "    return [arr.shape[0]/total for arr in ds]"
   ]
  },
  {
   "cell_type": "markdown",
   "metadata": {},
   "source": [
    "### Obtener subarreglos por clase"
   ]
  },
  {
   "cell_type": "code",
   "execution_count": 18,
   "metadata": {},
   "outputs": [],
   "source": [
    "def get_subarrs_from_dataset(array):\n",
    "    l = []\n",
    "    c = 0\n",
    "    for i, e in enumerate(array):\n",
    "        if e[label_col] != array[c][label_col]:\n",
    "            l.append(data[c:i])\n",
    "            c = i\n",
    "    l.append(data[c:i+1])\n",
    "\n",
    "    return np.array(l)"
   ]
  },
  {
   "cell_type": "markdown",
   "metadata": {},
   "source": [
    "### Obtención del modelo"
   ]
  },
  {
   "cell_type": "code",
   "execution_count": 19,
   "metadata": {},
   "outputs": [],
   "source": [
    "def get_model(ds, chr_cols):\n",
    "    # Calcular probabilidad a priori\n",
    "    prior = calculate_prior(ds)\n",
    "\n",
    "    # Calcular medias y desviaciones estandar por columna y clase\n",
    "    measures = []\n",
    "    for cl in ds:\n",
    "        m = []\n",
    "        for ch_col in (cl[:, i] for i in range(*chr_cols)):\n",
    "            m.append({'mean': ch_col.mean(), 'std': ch_col.std()})\n",
    "        measures.append(m)\n",
    "\n",
    "    return (prior, measures)"
   ]
  },
  {
   "cell_type": "markdown",
   "metadata": {},
   "source": [
    "### Calcular la probabilidad\n",
    "**Nota:** Para la probabilidad se implementó la distribición normal que se enecuentra dentro de la presentación; sin embargo, en Internet se presenta una de manera diferente:\n",
    "[The Normal Distribution](https://www.thoughtco.com/normal-distribution-bell-curve-formula-3126278)"
   ]
  },
  {
   "cell_type": "code",
   "execution_count": 20,
   "metadata": {},
   "outputs": [],
   "source": [
    "def calculate_probability(e, prior, measures):\n",
    "    probability = 1\n",
    "    for m, ch in zip(measures, e):\n",
    "        probability *= (1/np.sqrt(2*np.pi*m['std']))*np.exp(-.5*((ch-m['mean'])/m['std'])**2)\n",
    "    probability *= prior\n",
    "\n",
    "    return probability"
   ]
  },
  {
   "cell_type": "markdown",
   "metadata": {},
   "source": [
    "### Clasificar"
   ]
  },
  {
   "cell_type": "code",
   "execution_count": 21,
   "metadata": {},
   "outputs": [],
   "source": [
    "def classify(subset, prior, measures):\n",
    "    accuracies = []\n",
    "    for i, cl in enumerate(subset):\n",
    "        accuracy = 0\n",
    "        for e in (e[chr_cols[0]:chr_cols[1]] for e in cl):\n",
    "            likelihood = []\n",
    "            for p, m in zip(prior, measures):\n",
    "                likelihood.append(calculate_probability(e, p, m))\n",
    "            if np.argmax(likelihood) == i: accuracy += 1\n",
    "\n",
    "        accuracies.append(accuracy)\n",
    "\n",
    "    return np.array(accuracies)"
   ]
  },
  {
   "cell_type": "markdown",
   "metadata": {},
   "source": [
    "### Entrenamiento y prueba"
   ]
  },
  {
   "cell_type": "code",
   "execution_count": 24,
   "metadata": {},
   "outputs": [],
   "source": [
    "from sklearn.model_selection import train_test_split\n",
    "\n",
    "subarrs = get_subarrs_from_dataset(data)\n",
    "\n",
    "train, test = [], []\n",
    "for arr in subarrs:\n",
    "    tr, te = train_test_split(arr, test_size=.2, random_state=50)\n",
    "    train.append(tr)\n",
    "    test.append(te)\n",
    "train = np.array(train)\n",
    "test = np.array(test)\n",
    "del subarrs, arr, tr, te\n",
    "\n",
    "# Obtener modelo\n",
    "model = get_model(train, chr_cols)\n",
    "\n",
    "# ****** Resultados ******\n",
    "# Entrenamiento\n",
    "acc_train = classify(train, *model)\n",
    "\n",
    "# Prueba\n",
    "acc_test = classify(test, *model)\n",
    "# TODO: Checar warning con datasets Breast y Wine"
   ]
  },
  {
   "cell_type": "markdown",
   "metadata": {},
   "source": [
    "### Muestra de resultados"
   ]
  },
  {
   "cell_type": "code",
   "execution_count": 25,
   "metadata": {},
   "outputs": [
    {
     "name": "stdout",
     "output_type": "stream",
     "text": [
      "\n",
      "Resultados con el subjuntunto de entrenamiento\n",
      "- Clase 'Iris-setosa': 40/40\n",
      "- Clase 'Iris-versicolor': 36/40\n",
      "- Clase 'Iris-virginica': 37/40\n",
      "Exactitud: 94.17%\n",
      "\n",
      "Resultados con el subjuntunto de prueba\n",
      "- Clase 'Iris-setosa': 10/10\n",
      "- Clase 'Iris-versicolor': 10/10\n",
      "- Clase 'Iris-virginica': 9/10\n",
      "Exactitud: 96.67%\n"
     ]
    }
   ],
   "source": [
    "def show_results(ds, accuracy, label_col, ds_name):\n",
    "    print('\\nResultados con el subjuntunto de', ds_name)\n",
    "    for t in range(ds.shape[0]):\n",
    "        print(f'- Clase \\'{ds[t][0][label_col]}\\': {accuracy[t]}/{ds[t].shape[0]}')\n",
    "    print(f'Exactitud: {100*sum(accuracy)/sum(map(lambda e: e.shape[0], ds)):.2f}%')\n",
    "\n",
    "show_results(train, acc_train, label_col, 'entrenamiento')\n",
    "show_results(test, acc_test, label_col, 'prueba')"
   ]
  }
 ],
 "metadata": {
  "kernelspec": {
   "display_name": "Python 3.10.8 ('knn')",
   "language": "python",
   "name": "python3"
  },
  "language_info": {
   "codemirror_mode": {
    "name": "ipython",
    "version": 3
   },
   "file_extension": ".py",
   "mimetype": "text/x-python",
   "name": "python",
   "nbconvert_exporter": "python",
   "pygments_lexer": "ipython3",
   "version": "3.10.8"
  },
  "orig_nbformat": 4,
  "vscode": {
   "interpreter": {
    "hash": "cca6ec64d0e44c85f17f64c1d15e926666316798ed9763fd6969b4b2e458ebe6"
   }
  }
 },
 "nbformat": 4,
 "nbformat_minor": 2
}
